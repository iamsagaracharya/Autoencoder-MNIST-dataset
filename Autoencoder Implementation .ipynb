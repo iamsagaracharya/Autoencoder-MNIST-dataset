{
 "cells": [
  {
   "cell_type": "code",
   "execution_count": 1,
   "id": "bcfbe172-5dc7-4e3d-9840-05bd86e8ebe6",
   "metadata": {},
   "outputs": [],
   "source": [
    "import sklearn\n",
    "import tensorflow as tf\n",
    "from tensorflow import keras\n",
    "import numpy as np\n",
    "import os\n",
    "%matplotlib inline\n",
    "import matplotlib as mpl\n",
    "import matplotlib.pyplot as plt\n"
   ]
  },
  {
   "cell_type": "code",
   "execution_count": 2,
   "id": "56339263-6cd5-494d-beaf-0906de715d18",
   "metadata": {},
   "outputs": [],
   "source": [
    "# to make this notebook's output stable across runs\n",
    "np.random.seed(42)\n",
    "tf.random.set_seed(42)"
   ]
  },
  {
   "cell_type": "code",
   "execution_count": 3,
   "id": "e131da29-d493-470b-a157-4229296d4ca6",
   "metadata": {},
   "outputs": [],
   "source": [
    "# using MNIST dataset\n",
    "(X_train_full, y_train_full), (X_test, y_test) = keras.datasets.fashion_mnist.load_data()\n",
    "X_train_full = X_train_full.astype(np.float32) / 255\n",
    "X_test = X_test.astype(np.float32) / 255\n",
    "X_train, X_valid = X_train_full[:-5000], X_train_full[-5000:]\n",
    "y_train, y_valid = y_train_full[:-5000], y_train_full[-5000:]"
   ]
  },
  {
   "cell_type": "code",
   "execution_count": 4,
   "id": "4dfcefea-47b7-4b2f-9b5a-769f578f2146",
   "metadata": {},
   "outputs": [],
   "source": [
    "def rounded_accuracy(y_true, y_pred):\n",
    "    return keras.metrics.binary_accuracy(tf.round(y_true), tf.round(y_pred))"
   ]
  },
  {
   "cell_type": "code",
   "execution_count": 5,
   "id": "cb139738-7a49-4bf6-a424-1771d80f792d",
   "metadata": {},
   "outputs": [],
   "source": [
    "np.random.seed(42)\n",
    "tf.random.set_seed(42)\n",
    "stacked_encoder = keras.models.Sequential([\n",
    "    keras.layers.Flatten(input_shape=[28, 28]),\n",
    "    keras.layers.Dense(100, activation=\"selu\"),\n",
    "    keras.layers.Dense(30, activation=\"selu\"),\n",
    "])\n",
    "stacked_decoder = keras.models.Sequential([\n",
    "    keras.layers.Dense(100, activation=\"selu\", input_shape=[30]),\n",
    "    keras.layers.Dense(28 * 28, activation=\"sigmoid\"),\n",
    "    keras.layers.Reshape([28, 28])\n",
    "])"
   ]
  },
  {
   "cell_type": "code",
   "execution_count": 6,
   "id": "4a5d0447-ad87-42bc-8bed-e3c654e140fd",
   "metadata": {},
   "outputs": [],
   "source": [
    "stacked_ae = keras.models.Sequential([stacked_encoder, stacked_decoder])"
   ]
  },
  {
   "cell_type": "code",
   "execution_count": 7,
   "id": "5cf7eb4a-0c4f-4822-95cf-b3a2bad5db48",
   "metadata": {},
   "outputs": [
    {
     "name": "stderr",
     "output_type": "stream",
     "text": [
      "WARNING:absl:At this time, the v2.11+ optimizer `tf.keras.optimizers.SGD` runs slowly on M1/M2 Macs, please use the legacy Keras optimizer instead, located at `tf.keras.optimizers.legacy.SGD`.\n"
     ]
    }
   ],
   "source": [
    "stacked_ae.compile(loss=\"binary_crossentropy\",\n",
    "                   optimizer=keras.optimizers.SGD(learning_rate=1.5), metrics=[rounded_accuracy])"
   ]
  },
  {
   "cell_type": "code",
   "execution_count": 8,
   "id": "9032c8c2-cd42-4941-9b32-fef131191957",
   "metadata": {
    "scrolled": true
   },
   "outputs": [
    {
     "name": "stdout",
     "output_type": "stream",
     "text": [
      "Epoch 1/20\n",
      "1719/1719 [==============================] - 3s 2ms/step - loss: 0.3378 - rounded_accuracy: 0.8872 - val_loss: 0.3138 - val_rounded_accuracy: 0.9105\n",
      "Epoch 2/20\n",
      "1719/1719 [==============================] - 3s 2ms/step - loss: 0.3061 - rounded_accuracy: 0.9145 - val_loss: 0.3045 - val_rounded_accuracy: 0.9186\n",
      "Epoch 3/20\n",
      "1719/1719 [==============================] - 3s 2ms/step - loss: 0.2997 - rounded_accuracy: 0.9201 - val_loss: 0.2988 - val_rounded_accuracy: 0.9210\n",
      "Epoch 4/20\n",
      "1719/1719 [==============================] - 3s 2ms/step - loss: 0.2960 - rounded_accuracy: 0.9234 - val_loss: 0.2957 - val_rounded_accuracy: 0.9242\n",
      "Epoch 5/20\n",
      "1719/1719 [==============================] - 3s 2ms/step - loss: 0.2934 - rounded_accuracy: 0.9257 - val_loss: 0.2936 - val_rounded_accuracy: 0.9266\n",
      "Epoch 6/20\n",
      "1719/1719 [==============================] - 3s 2ms/step - loss: 0.2915 - rounded_accuracy: 0.9274 - val_loss: 0.2916 - val_rounded_accuracy: 0.9288\n",
      "Epoch 7/20\n",
      "1719/1719 [==============================] - 3s 2ms/step - loss: 0.2899 - rounded_accuracy: 0.9288 - val_loss: 0.2913 - val_rounded_accuracy: 0.9290\n",
      "Epoch 8/20\n",
      "1719/1719 [==============================] - 3s 2ms/step - loss: 0.2888 - rounded_accuracy: 0.9298 - val_loss: 0.2970 - val_rounded_accuracy: 0.9266\n",
      "Epoch 9/20\n",
      "1719/1719 [==============================] - 3s 2ms/step - loss: 0.2877 - rounded_accuracy: 0.9309 - val_loss: 0.2890 - val_rounded_accuracy: 0.9314\n",
      "Epoch 10/20\n",
      "1719/1719 [==============================] - 3s 2ms/step - loss: 0.2867 - rounded_accuracy: 0.9318 - val_loss: 0.2876 - val_rounded_accuracy: 0.9329\n",
      "Epoch 11/20\n",
      "1719/1719 [==============================] - 3s 2ms/step - loss: 0.2859 - rounded_accuracy: 0.9326 - val_loss: 0.2868 - val_rounded_accuracy: 0.9330\n",
      "Epoch 12/20\n",
      "1719/1719 [==============================] - 3s 2ms/step - loss: 0.2852 - rounded_accuracy: 0.9331 - val_loss: 0.2871 - val_rounded_accuracy: 0.9338\n",
      "Epoch 13/20\n",
      "1719/1719 [==============================] - 3s 2ms/step - loss: 0.2846 - rounded_accuracy: 0.9336 - val_loss: 0.2861 - val_rounded_accuracy: 0.9340\n",
      "Epoch 14/20\n",
      "1719/1719 [==============================] - 3s 2ms/step - loss: 0.2840 - rounded_accuracy: 0.9341 - val_loss: 0.2854 - val_rounded_accuracy: 0.9349\n",
      "Epoch 15/20\n",
      "1719/1719 [==============================] - 3s 2ms/step - loss: 0.2835 - rounded_accuracy: 0.9346 - val_loss: 0.2846 - val_rounded_accuracy: 0.9353\n",
      "Epoch 16/20\n",
      "1719/1719 [==============================] - 3s 2ms/step - loss: 0.2830 - rounded_accuracy: 0.9351 - val_loss: 0.2843 - val_rounded_accuracy: 0.9354\n",
      "Epoch 17/20\n",
      "1719/1719 [==============================] - 3s 2ms/step - loss: 0.2825 - rounded_accuracy: 0.9355 - val_loss: 0.2838 - val_rounded_accuracy: 0.9362\n",
      "Epoch 18/20\n",
      "1719/1719 [==============================] - 3s 2ms/step - loss: 0.2821 - rounded_accuracy: 0.9358 - val_loss: 0.2836 - val_rounded_accuracy: 0.9350\n",
      "Epoch 19/20\n",
      "1719/1719 [==============================] - 3s 2ms/step - loss: 0.2818 - rounded_accuracy: 0.9361 - val_loss: 0.2836 - val_rounded_accuracy: 0.9342\n",
      "Epoch 20/20\n",
      "1719/1719 [==============================] - 3s 2ms/step - loss: 0.2814 - rounded_accuracy: 0.9364 - val_loss: 0.2844 - val_rounded_accuracy: 0.9364\n"
     ]
    }
   ],
   "source": [
    "history = stacked_ae.fit(X_train, X_train, epochs=20,\n",
    "                         validation_data=(X_valid, X_valid))"
   ]
  },
  {
   "cell_type": "markdown",
   "id": "62511049-e48d-40e8-9bfc-ed76a697e26a",
   "metadata": {},
   "source": [
    "#### This function processes a few test images through the autoencoder and displays the original images and their reconstructions:"
   ]
  },
  {
   "cell_type": "code",
   "execution_count": 11,
   "id": "bc19361b-c42c-414d-a822-29ae1391f3c3",
   "metadata": {},
   "outputs": [],
   "source": [
    "def plot_image(image):\n",
    "    plt.imshow(image, cmap=\"binary\")\n",
    "    plt.axis(\"off\")\n",
    "def show_reconstructions(model, images=X_valid, n_images=5):\n",
    "    reconstructions = model.predict(images[:n_images])\n",
    "    fig = plt.figure(figsize=(n_images * 1.5, 3))\n",
    "    for image_index in range(n_images):\n",
    "        plt.subplot(2, n_images, 1 + image_index)\n",
    "        plot_image(images[image_index])\n",
    "        plt.subplot(2, n_images, 1 + n_images + image_index)\n",
    "        plot_image(reconstructions[image_index])"
   ]
  },
  {
   "cell_type": "code",
   "execution_count": 13,
   "id": "e0bd361d-b304-4ed7-ac80-2a57b00d6370",
   "metadata": {},
   "outputs": [
    {
     "name": "stdout",
     "output_type": "stream",
     "text": [
      "1/1 [==============================] - 0s 11ms/step\n"
     ]
    },
    {
     "data": {
      "image/png": "[encoded data removed]",
      "text/plain": [
       "<Figure size 750x300 with 10 Axes>"
      ]
     },
     "metadata": {},
     "output_type": "display_data"
    }
   ],
   "source": [
    "show_reconstructions(stacked_ae)"
   ]
  },
  {
   "cell_type": "code",
   "execution_count": null,
   "id": "4da98fdc-c751-45cc-ae0f-f81e1a8a3f91",
   "metadata": {},
   "outputs": [],
   "source": []
  }
 ],
 "metadata": {
  "kernelspec": {
   "display_name": "Python 3 (ipykernel)",
   "language": "python",
   "name": "python3"
  },
  "language_info": {
   "codemirror_mode": {
    "name": "ipython",
    "version": 3
   },
   "file_extension": ".py",
   "mimetype": "text/x-python",
   "name": "python",
   "nbconvert_exporter": "python",
   "pygments_lexer": "ipython3",
   "version": "3.11.7"
  }
 },
 "nbformat": 4,
 "nbformat_minor": 5
}
